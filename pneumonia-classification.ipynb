{
 "cells": [
  {
   "cell_type": "code",
   "execution_count": 1,
   "metadata": {
    "ExecuteTime": {
     "end_time": "2024-02-24T05:50:54.007559500Z",
     "start_time": "2024-02-24T05:50:50.489102500Z"
    },
    "_cell_guid": "b1076dfc-b9ad-4769-8c92-a6c4dae69d19",
    "_uuid": "8f2839f25d086af736a60e9eeb907d3b93b6e0e5",
    "execution": {
     "iopub.execute_input": "2024-01-23T15:44:57.746400Z",
     "iopub.status.busy": "2024-01-23T15:44:57.746010Z",
     "iopub.status.idle": "2024-01-23T15:44:57.751140Z",
     "shell.execute_reply": "2024-01-23T15:44:57.750101Z",
     "shell.execute_reply.started": "2024-01-23T15:44:57.746370Z"
    },
    "trusted": true
   },
   "outputs": [],
   "source": [
    "import os\n",
    "import random\n",
    "import numpy as np\n",
    "from keras.preprocessing.image import ImageDataGenerator"
   ]
  },
  {
   "cell_type": "code",
   "execution_count": 2,
   "metadata": {
    "ExecuteTime": {
     "end_time": "2024-02-24T05:51:04.839074700Z",
     "start_time": "2024-02-24T05:51:04.418602300Z"
    },
    "execution": {
     "iopub.execute_input": "2024-01-23T15:49:20.720792Z",
     "iopub.status.busy": "2024-01-23T15:49:20.719890Z",
     "iopub.status.idle": "2024-01-23T15:49:24.276078Z",
     "shell.execute_reply": "2024-01-23T15:49:24.275265Z",
     "shell.execute_reply.started": "2024-01-23T15:49:20.720759Z"
    },
    "trusted": true
   },
   "outputs": [
    {
     "name": "stdout",
     "output_type": "stream",
     "text": [
      "Found 5216 images belonging to 2 classes.\n",
      "Found 624 images belonging to 2 classes.\n"
     ]
    }
   ],
   "source": [
    "train_datagen = ImageDataGenerator(\n",
    "    rescale=1./255,\n",
    "    shear_range = 0.2,\n",
    "    zoom_range= 0.2,\n",
    "    horizontal_flip=True\n",
    ")\n",
    "test_datagen = ImageDataGenerator(rescale=1./255)\n",
    "\n",
    "train_generator = train_datagen.flow_from_directory(\n",
    "    'train',\n",
    "    target_size=(150,150),\n",
    "    batch_size=10,\n",
    "    class_mode='binary'\n",
    ")\n",
    "\n",
    "test_generator = train_datagen.flow_from_directory(\n",
    "    'test',\n",
    "    target_size=(150,150),\n",
    "    batch_size=10,\n",
    "    class_mode='binary'\n",
    ")\n"
   ]
  },
  {
   "cell_type": "code",
   "execution_count": 3,
   "metadata": {
    "ExecuteTime": {
     "end_time": "2024-02-24T05:51:05.917665700Z",
     "start_time": "2024-02-24T05:51:05.869793800Z"
    },
    "execution": {
     "iopub.execute_input": "2024-01-23T15:57:56.780182Z",
     "iopub.status.busy": "2024-01-23T15:57:56.779285Z",
     "iopub.status.idle": "2024-01-23T15:57:56.784725Z",
     "shell.execute_reply": "2024-01-23T15:57:56.783812Z",
     "shell.execute_reply.started": "2024-01-23T15:57:56.780143Z"
    },
    "trusted": true
   },
   "outputs": [],
   "source": [
    "import tensorflow as tf\n",
    "from tensorflow import keras\n",
    "from keras import Sequential\n",
    "from keras.layers import Conv2D,MaxPool2D,BatchNormalization,Dropout,Flatten,Dense"
   ]
  },
  {
   "cell_type": "code",
   "execution_count": 4,
   "metadata": {
    "ExecuteTime": {
     "end_time": "2024-02-24T05:51:13.626090300Z",
     "start_time": "2024-02-24T05:51:10.615488700Z"
    },
    "execution": {
     "iopub.execute_input": "2024-01-23T15:57:58.744847Z",
     "iopub.status.busy": "2024-01-23T15:57:58.744029Z",
     "iopub.status.idle": "2024-01-23T15:57:58.886171Z",
     "shell.execute_reply": "2024-01-23T15:57:58.885176Z",
     "shell.execute_reply.started": "2024-01-23T15:57:58.744813Z"
    },
    "trusted": true
   },
   "outputs": [],
   "source": [
    "model = Sequential()\n",
    "\n",
    "model.add(Conv2D(64,kernel_size=(3,3),padding='valid',activation='relu',input_shape=(150,150,3)))\n",
    "model.add(BatchNormalization())\n",
    "model.add(MaxPool2D(pool_size=(2,2),strides=2,padding='valid'))\n",
    "\n",
    "model.add(Conv2D(64,kernel_size=(3,3),padding='valid',activation='relu',input_shape=(150,150,3)))\n",
    "model.add(BatchNormalization())\n",
    "model.add(MaxPool2D(pool_size=(2,2),strides=2,padding='valid'))\n",
    "\n",
    "model.add(Conv2D(64,kernel_size=(3,3),padding='valid',activation='relu',input_shape=(150,150,3)))\n",
    "model.add(BatchNormalization())\n",
    "model.add(MaxPool2D(pool_size=(2,2),strides=2,padding='valid'))\n",
    "\n",
    "model.add(Flatten())\n",
    "\n",
    "model.add(Dense(128,activation='relu'))\n",
    "model.add(Dropout(0.3))\n",
    "model.add(Dense(128,activation='relu'))\n",
    "model.add(Dropout(0.3))\n",
    "model.add(Dense(1,activation='sigmoid'))"
   ]
  },
  {
   "cell_type": "code",
   "execution_count": 5,
   "metadata": {
    "ExecuteTime": {
     "end_time": "2024-02-24T05:51:15.344817600Z",
     "start_time": "2024-02-24T05:51:15.262039900Z"
    },
    "execution": {
     "iopub.execute_input": "2024-01-23T15:58:04.189826Z",
     "iopub.status.busy": "2024-01-23T15:58:04.189441Z",
     "iopub.status.idle": "2024-01-23T15:58:04.235336Z",
     "shell.execute_reply": "2024-01-23T15:58:04.234441Z",
     "shell.execute_reply.started": "2024-01-23T15:58:04.189794Z"
    },
    "trusted": true
   },
   "outputs": [
    {
     "name": "stdout",
     "output_type": "stream",
     "text": [
      "Model: \"sequential\"\n",
      "_________________________________________________________________\n",
      " Layer (type)                Output Shape              Param #   \n",
      "=================================================================\n",
      " conv2d (Conv2D)             (None, 148, 148, 64)      1792      \n",
      "                                                                 \n",
      " batch_normalization (Batch  (None, 148, 148, 64)      256       \n",
      " Normalization)                                                  \n",
      "                                                                 \n",
      " max_pooling2d (MaxPooling2  (None, 74, 74, 64)        0         \n",
      " D)                                                              \n",
      "                                                                 \n",
      " conv2d_1 (Conv2D)           (None, 72, 72, 64)        36928     \n",
      "                                                                 \n",
      " batch_normalization_1 (Bat  (None, 72, 72, 64)        256       \n",
      " chNormalization)                                                \n",
      "                                                                 \n",
      " max_pooling2d_1 (MaxPoolin  (None, 36, 36, 64)        0         \n",
      " g2D)                                                            \n",
      "                                                                 \n",
      " conv2d_2 (Conv2D)           (None, 34, 34, 64)        36928     \n",
      "                                                                 \n",
      " batch_normalization_2 (Bat  (None, 34, 34, 64)        256       \n",
      " chNormalization)                                                \n",
      "                                                                 \n",
      " max_pooling2d_2 (MaxPoolin  (None, 17, 17, 64)        0         \n",
      " g2D)                                                            \n",
      "                                                                 \n",
      " flatten (Flatten)           (None, 18496)             0         \n",
      "                                                                 \n",
      " dense (Dense)               (None, 128)               2367616   \n",
      "                                                                 \n",
      " dropout (Dropout)           (None, 128)               0         \n",
      "                                                                 \n",
      " dense_1 (Dense)             (None, 128)               16512     \n",
      "                                                                 \n",
      " dropout_1 (Dropout)         (None, 128)               0         \n",
      "                                                                 \n",
      " dense_2 (Dense)             (None, 1)                 129       \n",
      "                                                                 \n",
      "=================================================================\n",
      "Total params: 2460673 (9.39 MB)\n",
      "Trainable params: 2460289 (9.39 MB)\n",
      "Non-trainable params: 384 (1.50 KB)\n",
      "_________________________________________________________________\n"
     ]
    }
   ],
   "source": [
    "model.summary()"
   ]
  },
  {
   "cell_type": "code",
   "execution_count": 6,
   "metadata": {
    "ExecuteTime": {
     "end_time": "2024-02-24T05:51:16.537541600Z",
     "start_time": "2024-02-24T05:51:16.499470800Z"
    },
    "execution": {
     "iopub.execute_input": "2024-01-23T16:03:37.601046Z",
     "iopub.status.busy": "2024-01-23T16:03:37.600076Z",
     "iopub.status.idle": "2024-01-23T16:03:37.615079Z",
     "shell.execute_reply": "2024-01-23T16:03:37.614147Z",
     "shell.execute_reply.started": "2024-01-23T16:03:37.601005Z"
    },
    "trusted": true
   },
   "outputs": [],
   "source": [
    "model.compile(loss='binary_crossentropy',optimizer='adam',metrics=['accuracy'])"
   ]
  },
  {
   "cell_type": "code",
   "execution_count": 7,
   "metadata": {
    "ExecuteTime": {
     "end_time": "2024-02-24T05:51:44.767498500Z",
     "start_time": "2024-02-24T05:51:20.189796300Z"
    },
    "execution": {
     "iopub.execute_input": "2024-01-23T16:08:19.865995Z",
     "iopub.status.busy": "2024-01-23T16:08:19.865344Z",
     "iopub.status.idle": "2024-01-23T16:09:15.264466Z",
     "shell.execute_reply": "2024-01-23T16:09:15.263356Z",
     "shell.execute_reply.started": "2024-01-23T16:08:19.865964Z"
    },
    "trusted": true
   },
   "outputs": [
    {
     "name": "stdout",
     "output_type": "stream",
     "text": [
      "Epoch 1/10\n",
      "1/1 [==============================] - 7s 7s/step - loss: 1.3679 - accuracy: 0.4000 - val_loss: 0.6726 - val_accuracy: 0.7000\n",
      "Epoch 2/10\n",
      "1/1 [==============================] - 2s 2s/step - loss: 2.8456 - accuracy: 0.6000 - val_loss: 0.7433 - val_accuracy: 0.3000\n",
      "Epoch 3/10\n",
      "1/1 [==============================] - 2s 2s/step - loss: 2.4329 - accuracy: 0.6000 - val_loss: 0.8347 - val_accuracy: 0.3000\n",
      "Epoch 4/10\n",
      "1/1 [==============================] - 2s 2s/step - loss: 2.7561 - accuracy: 0.5000 - val_loss: 0.7566 - val_accuracy: 0.4000\n",
      "Epoch 5/10\n",
      "1/1 [==============================] - 1s 1s/step - loss: 2.6397 - accuracy: 0.5000 - val_loss: 0.8006 - val_accuracy: 0.1000\n",
      "Epoch 6/10\n",
      "1/1 [==============================] - 1s 1s/step - loss: 1.4219 - accuracy: 0.7000 - val_loss: 0.7521 - val_accuracy: 0.4000\n",
      "Epoch 7/10\n",
      "1/1 [==============================] - 1s 1s/step - loss: 1.1738 - accuracy: 0.7000 - val_loss: 0.7116 - val_accuracy: 0.4000\n",
      "Epoch 8/10\n",
      "1/1 [==============================] - 1s 1s/step - loss: 2.4454 - accuracy: 0.6000 - val_loss: 0.6666 - val_accuracy: 0.6000\n",
      "Epoch 9/10\n",
      "1/1 [==============================] - 2s 2s/step - loss: 1.2891 - accuracy: 0.7000 - val_loss: 0.6599 - val_accuracy: 0.5000\n",
      "Epoch 10/10\n",
      "1/1 [==============================] - 2s 2s/step - loss: 1.0600 - accuracy: 0.8000 - val_loss: 0.8758 - val_accuracy: 0.1000\n"
     ]
    }
   ],
   "source": [
    "history = model.fit(train_generator,steps_per_epoch=1,epochs=10,validation_data=test_generator,validation_steps=1)"
   ]
  },
  {
   "cell_type": "code",
   "execution_count": 8,
   "metadata": {
    "ExecuteTime": {
     "end_time": "2024-02-24T05:52:00.316345800Z",
     "start_time": "2024-02-24T05:51:58.190359200Z"
    },
    "execution": {
     "iopub.execute_input": "2024-01-23T16:07:31.895158Z",
     "iopub.status.busy": "2024-01-23T16:07:31.894758Z",
     "iopub.status.idle": "2024-01-23T16:07:32.112358Z",
     "shell.execute_reply": "2024-01-23T16:07:32.111418Z",
     "shell.execute_reply.started": "2024-01-23T16:07:31.895126Z"
    },
    "trusted": true
   },
   "outputs": [
    {
     "data": {
      "image/png": "[encoded data removed]",
      "text/plain": [
       "<Figure size 640x480 with 1 Axes>"
      ]
     },
     "metadata": {},
     "output_type": "display_data"
    }
   ],
   "source": [
    "import matplotlib.pyplot as plt\n",
    "\n",
    "plt.plot(history.history['accuracy'],color='red',label='train')\n",
    "plt.plot(history.history['val_accuracy'],color='blue',label='test')\n",
    "plt.legend()\n",
    "plt.show()"
   ]
  },
  {
   "cell_type": "code",
   "execution_count": 9,
   "metadata": {
    "ExecuteTime": {
     "end_time": "2024-02-24T05:52:03.025818200Z",
     "start_time": "2024-02-24T05:52:02.889180700Z"
    },
    "execution": {
     "iopub.execute_input": "2024-01-23T16:10:22.201194Z",
     "iopub.status.busy": "2024-01-23T16:10:22.200810Z",
     "iopub.status.idle": "2024-01-23T16:10:22.474781Z",
     "shell.execute_reply": "2024-01-23T16:10:22.473868Z",
     "shell.execute_reply.started": "2024-01-23T16:10:22.201164Z"
    },
    "trusted": true
   },
   "outputs": [
    {
     "data": {
      "image/png": "[encoded data removed]",
      "text/plain": [
       "<Figure size 640x480 with 1 Axes>"
      ]
     },
     "metadata": {},
     "output_type": "display_data"
    }
   ],
   "source": [
    "plt.plot(history.history['loss'],color='red',label='train')\n",
    "plt.plot(history.history['val_loss'],color='blue',label='test')\n",
    "plt.legend()\n",
    "plt.show()"
   ]
  },
  {
   "cell_type": "code",
   "execution_count": null,
   "metadata": {},
   "outputs": [],
   "source": []
  }
 ],
 "metadata": {
  "kaggle": {
   "accelerator": "none",
   "dataSources": [
    {
     "datasetId": 17810,
     "sourceId": 23812,
     "sourceType": "datasetVersion"
    }
   ],
   "dockerImageVersionId": 30627,
   "isGpuEnabled": false,
   "isInternetEnabled": true,
   "language": "python",
   "sourceType": "notebook"
  },
  "kernelspec": {
   "display_name": "Python 3",
   "language": "python",
   "name": "python3"
  },
  "language_info": {
   "codemirror_mode": {
    "name": "ipython",
    "version": 3
   },
   "file_extension": ".py",
   "mimetype": "text/x-python",
   "name": "python",
   "nbconvert_exporter": "python",
   "pygments_lexer": "ipython3",
   "version": "3.11.0"
  }
 },
 "nbformat": 4,
 "nbformat_minor": 4
}
